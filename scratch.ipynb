{
 "cells": [
  {
   "cell_type": "code",
   "execution_count": 62,
   "metadata": {
    "collapsed": true
   },
   "outputs": [],
   "source": [
    "import numpy as np\n",
    "import pandas as pd\n",
    "import cPickle as pickle\n",
    "from IPython.display import display\n",
    "from IPython.display import Image\n",
    "\n",
    "def print_full(x):\n",
    "    pd.set_option('display.max_rows', len(x))\n",
    "    print(x)\n",
    "    pd.reset_option('display.max_rows')\n",
    "    \n",
    "def unpickle(filename_pickle):\n",
    "    print 'unpickling:', filename_pickle, '...'\n",
    "    return pickle.load(open(filename_pickle, 'rb'))\n",
    "\n",
    "def pickleup(object_to_pickle, filename_pickle):\n",
    "    print 'pickling:', filename_pickle,'...'\n",
    "    pickle.dump(object_to_pickle, open(filename_pickle, 'wb'))"
   ]
  },
  {
   "cell_type": "code",
   "execution_count": 42,
   "metadata": {
    "collapsed": true
   },
   "outputs": [],
   "source": [
    "# aisles = pd.read_csv('raw_data/aisles.csv')\n",
    "# departments = pd.read_csv('raw_data/departments.csv')\n",
    "# products = pd.read_csv('raw_data/products.csv')\n",
    "# order_products_train_df = pd.read_csv(\"raw_data/order_products__train.csv\")\n",
    "# order_products_prior_df = pd.read_csv(\"raw_data/order_products__prior.csv\")\n",
    "# orders = pd.read_csv(\"raw_data/orders.csv\")"
   ]
  },
  {
   "cell_type": "code",
   "execution_count": 49,
   "metadata": {
    "collapsed": false
   },
   "outputs": [
    {
     "name": "stdout",
     "output_type": "stream",
     "text": [
      "pickling: aisles.p ...\n",
      "pickling: departments.p ...\n",
      "pickling: products.p ...\n",
      "pickling: order_products_train_df.p ...\n",
      "pickling: order_products_prior_df.p ...\n",
      "pickling: orders.p ...\n"
     ]
    }
   ],
   "source": [
    "# pickleup(aisles, 'pickled_data/aisles.p')\n",
    "# pickleup(departments, 'pickled_data/departments.p')\n",
    "# pickleup(products, 'pickled_data/products.p')\n",
    "# pickleup(order_products_train_df, 'pickled_data/order_products_train_df.p')\n",
    "# pickleup(order_products_prior_df, 'pickled_data/order_products_prior_df.p')\n",
    "# pickleup(orders, 'pickled_data/orders.p')\n",
    "\n",
    "# unpickle('pickled_data/aisles.p')\n",
    "# unpickle('pickled_data/departments.p')\n",
    "# unpickle('pickled_data/products.p')\n",
    "# unpickle('pickled_data/order_products_train_df.p')\n",
    "# unpickle('pickled_data/order_products_prior_df.p')\n",
    "# unpickle('pickled_data/orders.p')\n",
    "# print 'finished!'"
   ]
  },
  {
   "cell_type": "markdown",
   "metadata": {},
   "source": [
    "## Cleaning"
   ]
  },
  {
   "cell_type": "code",
   "execution_count": 59,
   "metadata": {
    "collapsed": false
   },
   "outputs": [],
   "source": [
    "products.product_name = products.product_name.str.replace(\"'\", '')\n",
    "products.product_name = products.product_name.str.replace(',', '')\n",
    "products.product_name = products.product_name.str.replace(' ', '_')\n",
    "aisles.aisle = aisles.aisle.str.replace(' ', '_')\n",
    "departments.department = departments.department.str.replace(' ','_')"
   ]
  },
  {
   "cell_type": "markdown",
   "metadata": {},
   "source": [
    "## Joins"
   ]
  },
  {
   "cell_type": "code",
   "execution_count": 68,
   "metadata": {
    "collapsed": true
   },
   "outputs": [],
   "source": [
    "new_train = pd.merge(order_products_train_df, orders, left_on='order_id', right_on='order_id', how='inner')\n",
    "new_prior = pd.merge(order_products_prior_df, orders, left_on='order_id', right_on='order_id', how='inner')"
   ]
  },
  {
   "cell_type": "code",
   "execution_count": null,
   "metadata": {
    "collapsed": false
   },
   "outputs": [
    {
     "name": "stdout",
     "output_type": "stream",
     "text": [
      "pickling: new_train.p ...\n",
      "pickling: new_prior.p ...\n"
     ]
    }
   ],
   "source": [
    "pickleup(new_train, 'pickled_data/new_train.p')\n",
    "pickleup(new_prior, 'pickled_data/new_prior.p')\n",
    "\n",
    "# unpickle('pickled_data/new_train.p')\n",
    "# unpickle('pickled_data/new_prior.p')\n",
    "# print 'finished!'"
   ]
  },
  {
   "cell_type": "markdown",
   "metadata": {},
   "source": [
    "## Exploration"
   ]
  },
  {
   "cell_type": "code",
   "execution_count": 65,
   "metadata": {
    "collapsed": false
   },
   "outputs": [
    {
     "name": "stdout",
     "output_type": "stream",
     "text": [
      "   order_id  product_id  add_to_cart_order  reordered\n",
      "0         1       49302                  1          1\n",
      "1         1       11109                  2          1\n",
      "2         1       10246                  3          0\n",
      "3         1       49683                  4          0\n",
      "4         1       43633                  5          1\n",
      "----------------------------------------------------------------------------------------------------\n",
      "   order_id  user_id eval_set  order_number  order_dow  order_hour_of_day  \\\n",
      "0   2539329        1    prior             1          2                  8   \n",
      "1   2398795        1    prior             2          3                  7   \n",
      "2    473747        1    prior             3          3                 12   \n",
      "3   2254736        1    prior             4          4                  7   \n",
      "4    431534        1    prior             5          4                 15   \n",
      "\n",
      "   days_since_prior_order  \n",
      "0                     NaN  \n",
      "1                    15.0  \n",
      "2                    21.0  \n",
      "3                    29.0  \n",
      "4                    28.0  \n"
     ]
    }
   ],
   "source": [
    "print order_products_train_df.head()\n",
    "print \"-\"*100\n",
    "print orders.head()"
   ]
  },
  {
   "cell_type": "code",
   "execution_count": 51,
   "metadata": {
    "collapsed": false
   },
   "outputs": [
    {
     "name": "stdout",
     "output_type": "stream",
     "text": [
      "        order_id  product_id  add_to_cart_order  reordered\n",
      "645758   1589147       29307                  8          1\n",
      "645759   1589166       24852                  1          1\n",
      "645760   1589166       33787                  2          1\n",
      "645761   1589166       40571                  3          1\n",
      "645762   1589166       33198                  4          0\n",
      "645763   1589166        9741                  5          0\n",
      "645764   1589166       14223                  6          1\n",
      "645765   1589166       22395                  7          0\n",
      "645766   1589166       17316                  8          1\n",
      "645767   1589166       32784                  9          0\n",
      "645768   1589166        1464                 10          1\n",
      "645769   1589166       29553                 11          0\n",
      "645770   1589166       44325                 12          1\n",
      "645771   1589166        4605                 13          0\n",
      "645772   1589166       28379                 14          0\n",
      "645773   1589166        7116                 15          0\n",
      "645774   1589166        1006                 16          0\n",
      "645775   1589166       45761                 17          0\n",
      "645776   1589166       18534                 18          0\n",
      "645777   1589166       33452                 19          0\n",
      "645778   1589166       43320                 20          0\n",
      "645779   1589166       37238                 21          0\n",
      "645780   1589166        9901                 22          0\n",
      "645781   1589200       38849                  1          1\n",
      "645782   1589200       40545                  2          1\n",
      "645783   1589200       27355                  3          1\n",
      "645784   1589200       24489                  4          1\n",
      "645785   1589200       18288                  5          1\n",
      "645786   1589200       13646                  6          0\n",
      "645787   1589200       31040                  7          0\n",
      "645788   1589200       12276                  8          1\n",
      "645789   1589200       15466                  9          1\n",
      "645790   1589214       41149                  1          0\n",
      "645791   1589214       27451                  2          0\n",
      "645792   1589214       26032                  3          0\n",
      "645793   1589214       36164                  4          0\n",
      "645794   1589214        3561                  5          0\n",
      "645795   1589214       46979                  6          1\n",
      "645796   1589225       12218                  1          1\n",
      "645797   1589225       24852                  2          1\n",
      "645798   1589225       28632                  3          1\n",
      "645799   1589225       43693                  4          1\n",
      "645800   1589225       24053                  5          0\n",
      "645801   1589225       41197                  6          0\n",
      "645802   1589225       21293                  7          1\n",
      "645803   1589225       27027                  8          1\n",
      "788141   1940783       41806                  3          1\n",
      "788142   1940783       32515                  4          1\n",
      "788143   1940783       45210                  5          1\n",
      "788144   1940783        5785                  6          1\n",
      "788145   1940783       11538                  7          1\n",
      "788146   1940783       43165                  8          1\n",
      "788147   1940783       37276                  9          1\n",
      "788148   1940783       31886                 10          1\n",
      "788149   1940783        8320                 11          0\n",
      "788150   1940786       34023                  1          0\n",
      "788151   1940786       26503                  2          0\n",
      "788152   1940798       24852                  1          1\n",
      "788153   1940798       30827                  2          1\n",
      "788154   1940798       43414                  3          1\n",
      "788155   1940798       16797                  4          1\n",
      "788156   1940798       19327                  5          1\n",
      "788157   1940798       31954                  6          1\n",
      "788158   1940798        4920                  7          1\n",
      "788159   1940798       34165                  8          1\n",
      "788160   1940798       19106                  9          1\n",
      "788161   1940798       13702                 10          1\n",
      "788162   1940798       34466                 11          1\n",
      "788163   1940798       33464                 12          1\n",
      "788164   1940798       32689                 13          1\n",
      "788165   1940806       26949                  1          1\n",
      "788166   1940806       47209                  2          1\n",
      "788167   1940806       13176                  3          1\n",
      "788168   1940806        8736                  4          1\n",
      "788169   1940806       27086                  5          1\n",
      "788170   1940806        5876                  6          1\n"
     ]
    },
    {
     "name": "stderr",
     "output_type": "stream",
     "text": [
      "/Users/matthew.negrin/anaconda2/lib/python2.7/site-packages/ipykernel/__main__.py:4: UserWarning: Boolean Series key will be reindexed to match DataFrame index.\n"
     ]
    }
   ],
   "source": [
    "# order_products_train_df[order_products_train_df.user_id==10]\n",
    "user_id_input = 10\n",
    "user_orders = orders[orders.user_id==user_id_input].order_id.tolist()\n",
    "print_full(order_products_train_df[order_products_prior_df.order_id.isin([user_orders])])"
   ]
  },
  {
   "cell_type": "code",
   "execution_count": 8,
   "metadata": {
    "collapsed": true
   },
   "outputs": [],
   "source": []
  },
  {
   "cell_type": "code",
   "execution_count": 7,
   "metadata": {
    "collapsed": false
   },
   "outputs": [
    {
     "data": {
      "text/plain": [
       "(1384617, 4)"
      ]
     },
     "execution_count": 7,
     "metadata": {},
     "output_type": "execute_result"
    }
   ],
   "source": [
    "aisles\n",
    "departments\n",
    "products\n",
    "order_products_train_df.shape"
   ]
  },
  {
   "cell_type": "code",
   "execution_count": null,
   "metadata": {
    "collapsed": true
   },
   "outputs": [],
   "source": [
    "orders"
   ]
  },
  {
   "cell_type": "code",
   "execution_count": 11,
   "metadata": {
    "collapsed": false
   },
   "outputs": [
    {
     "data": {
      "text/html": [
       "<div>\n",
       "<table border=\"1\" class=\"dataframe\">\n",
       "  <thead>\n",
       "    <tr style=\"text-align: right;\">\n",
       "      <th></th>\n",
       "      <th>order_id</th>\n",
       "      <th>product_id</th>\n",
       "      <th>add_to_cart_order</th>\n",
       "      <th>reordered</th>\n",
       "    </tr>\n",
       "  </thead>\n",
       "  <tbody>\n",
       "    <tr>\n",
       "      <th>0</th>\n",
       "      <td>1</td>\n",
       "      <td>49302</td>\n",
       "      <td>1</td>\n",
       "      <td>1</td>\n",
       "    </tr>\n",
       "    <tr>\n",
       "      <th>1</th>\n",
       "      <td>1</td>\n",
       "      <td>11109</td>\n",
       "      <td>2</td>\n",
       "      <td>1</td>\n",
       "    </tr>\n",
       "    <tr>\n",
       "      <th>2</th>\n",
       "      <td>1</td>\n",
       "      <td>10246</td>\n",
       "      <td>3</td>\n",
       "      <td>0</td>\n",
       "    </tr>\n",
       "    <tr>\n",
       "      <th>3</th>\n",
       "      <td>1</td>\n",
       "      <td>49683</td>\n",
       "      <td>4</td>\n",
       "      <td>0</td>\n",
       "    </tr>\n",
       "    <tr>\n",
       "      <th>4</th>\n",
       "      <td>1</td>\n",
       "      <td>43633</td>\n",
       "      <td>5</td>\n",
       "      <td>1</td>\n",
       "    </tr>\n",
       "    <tr>\n",
       "      <th>5</th>\n",
       "      <td>1</td>\n",
       "      <td>13176</td>\n",
       "      <td>6</td>\n",
       "      <td>0</td>\n",
       "    </tr>\n",
       "    <tr>\n",
       "      <th>6</th>\n",
       "      <td>1</td>\n",
       "      <td>47209</td>\n",
       "      <td>7</td>\n",
       "      <td>0</td>\n",
       "    </tr>\n",
       "    <tr>\n",
       "      <th>7</th>\n",
       "      <td>1</td>\n",
       "      <td>22035</td>\n",
       "      <td>8</td>\n",
       "      <td>1</td>\n",
       "    </tr>\n",
       "    <tr>\n",
       "      <th>8</th>\n",
       "      <td>36</td>\n",
       "      <td>39612</td>\n",
       "      <td>1</td>\n",
       "      <td>0</td>\n",
       "    </tr>\n",
       "    <tr>\n",
       "      <th>9</th>\n",
       "      <td>36</td>\n",
       "      <td>19660</td>\n",
       "      <td>2</td>\n",
       "      <td>1</td>\n",
       "    </tr>\n",
       "  </tbody>\n",
       "</table>\n",
       "</div>"
      ],
      "text/plain": [
       "   order_id  product_id  add_to_cart_order  reordered\n",
       "0         1       49302                  1          1\n",
       "1         1       11109                  2          1\n",
       "2         1       10246                  3          0\n",
       "3         1       49683                  4          0\n",
       "4         1       43633                  5          1\n",
       "5         1       13176                  6          0\n",
       "6         1       47209                  7          0\n",
       "7         1       22035                  8          1\n",
       "8        36       39612                  1          0\n",
       "9        36       19660                  2          1"
      ]
     },
     "execution_count": 11,
     "metadata": {},
     "output_type": "execute_result"
    }
   ],
   "source": [
    "order_products_train_df.head(10)"
   ]
  },
  {
   "cell_type": "code",
   "execution_count": null,
   "metadata": {
    "collapsed": true
   },
   "outputs": [],
   "source": []
  }
 ],
 "metadata": {
  "anaconda-cloud": {},
  "kernelspec": {
   "display_name": "Python [Root]",
   "language": "python",
   "name": "Python [Root]"
  },
  "language_info": {
   "codemirror_mode": {
    "name": "ipython",
    "version": 2
   },
   "file_extension": ".py",
   "mimetype": "text/x-python",
   "name": "python",
   "nbconvert_exporter": "python",
   "pygments_lexer": "ipython2",
   "version": "2.7.12"
  }
 },
 "nbformat": 4,
 "nbformat_minor": 0
}
